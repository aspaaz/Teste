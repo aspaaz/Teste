{
 "cells": [
  {
   "cell_type": "code",
   "execution_count": 1,
   "id": "a26f6f33",
   "metadata": {},
   "outputs": [
    {
     "name": "stdout",
     "output_type": "stream",
     "text": [
      "Hello, World\n"
     ]
    }
   ],
   "source": [
    "print(\"Hello, World\")"
   ]
  },
  {
   "cell_type": "code",
   "execution_count": 4,
   "id": "c0cd9b1b",
   "metadata": {},
   "outputs": [
    {
     "name": "stdout",
     "output_type": "stream",
     "text": [
      "10.0\n",
      "<class 'int'>\n"
     ]
    }
   ],
   "source": [
    "# Atribuindo valores a variáveis e executando operadores básicos. Assim como mostrando o Tipo de dado da variável (INT)\n",
    "x = 5\n",
    "y = 3\n",
    "v = 15\n",
    "\n",
    "print (x + v / y)\n",
    "print (type (x))"
   ]
  },
  {
   "cell_type": "code",
   "execution_count": 8,
   "id": "407c6f1c",
   "metadata": {},
   "outputs": [
    {
     "name": "stdout",
     "output_type": "stream",
     "text": [
      "Informe sua idade25\n",
      "25 <class 'int'>\n"
     ]
    }
   ],
   "source": [
    "#Transformando o tipo de dado da variável para INT, já que por padrão o sistema reconhece STRING\n",
    "idade = input (\"Informe sua idade\")\n",
    "idade = int (idade)\n",
    "print (idade, type(idade))\n"
   ]
  },
  {
   "cell_type": "code",
   "execution_count": 15,
   "id": "dcc95b55",
   "metadata": {},
   "outputs": [
    {
     "name": "stdout",
     "output_type": "stream",
     "text": [
      "Digite seu salário mensal:2500\n",
      "Digite o valor do seu gasto mensal em média:2000\n",
      "O montante que você pode economizar ao fim do ano é de  6000 <class 'int'>\n"
     ]
    }
   ],
   "source": [
    "#Executando um código com um input do usuário (Entrada), com operadores básicos com diversos operações básicas\n",
    "salario_mensal = input (\"Digite seu salário mensal:\")\n",
    "salario_mensal = float (salario_mensal)\n",
    "\n",
    "gasto_mensal = input (\"Digite o valor do seu gasto mensal em média:\")\n",
    "gasto_mensal = float(gasto_mensal)\n",
    "\n",
    "salario_total = salario_mensal * 12\n",
    "gasto_total = gasto_mensal * 12\n",
    "\n",
    "montante_economizado = salario_total - gasto_total\n",
    "montante_economizado = int (montante_economizado)\n",
    "print(\"O montante que você pode economizar ao fim do ano é de \", montante_economizado, type(montante_economizado))\n",
    "\n",
    "\n"
   ]
  },
  {
   "cell_type": "code",
   "execution_count": null,
   "id": "b16e4c88",
   "metadata": {},
   "outputs": [],
   "source": [
    " contador = 0\n",
    "    \n",
    "while contador < 10:\n",
    "    contador = contador + 1\n",
    "    if contador == 1:\n",
    "        print (contador, \"Item limpo\")\n",
    "    else:\n",
    "        print (contador, \"itens limpos\")\n",
    "        \n",
    "print (\"Fim da repetição de bloco while (enquanto)\")"
   ]
  },
  {
   "cell_type": "code",
   "execution_count": 1,
   "id": "86d76ea0",
   "metadata": {},
   "outputs": [
    {
     "name": "stdout",
     "output_type": "stream",
     "text": [
      "1 Item limpo\n",
      "2 itens limpos\n",
      "3 itens limpos\n",
      "4 itens limpos\n",
      "5 itens limpos\n",
      "6 itens limpos\n",
      "7 itens limpos\n",
      "8 itens limpos\n",
      "9 itens limpos\n",
      "10 itens limpos\n",
      "Fim da repetição de bloco while\n"
     ]
    }
   ],
   "source": [
    "contador = 0\n",
    "\n",
    "while True:\n",
    "    if contador < 10:\n",
    "        contador = contador + 1\n",
    "        if contador == 1:\n",
    "            print (contador, \"Item limpo\")\n",
    "        else:\n",
    "            print (contador, \"itens limpos\")\n",
    "    else:\n",
    "        break\n",
    "print (\"Fim da repetição de bloco while\")"
   ]
  },
  {
   "cell_type": "code",
   "execution_count": null,
   "id": "04cdb11d",
   "metadata": {},
   "outputs": [],
   "source": []
  }
 ],
 "metadata": {
  "kernelspec": {
   "display_name": "Python 3 (ipykernel)",
   "language": "python",
   "name": "python3"
  },
  "language_info": {
   "codemirror_mode": {
    "name": "ipython",
    "version": 3
   },
   "file_extension": ".py",
   "mimetype": "text/x-python",
   "name": "python",
   "nbconvert_exporter": "python",
   "pygments_lexer": "ipython3",
   "version": "3.10.7"
  }
 },
 "nbformat": 4,
 "nbformat_minor": 5
}
