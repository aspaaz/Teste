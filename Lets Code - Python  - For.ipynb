{
 "cells": [
  {
   "cell_type": "code",
   "execution_count": 1,
   "id": "1543c412",
   "metadata": {},
   "outputs": [
    {
     "name": "stdout",
     "output_type": "stream",
     "text": [
      "Rio de Janeiro\n",
      "Veneza\n",
      "Casaquistão\n"
     ]
    }
   ],
   "source": [
    "#Cria-se uma lista e atribui os valores da mesma a uma variável utilizando for. for(para) nome(variável) in(receba o valor) nome_cidades (lista)\n",
    "nomes_cidades = ['Rio de Janeiro', 'Veneza', 'Casaquistão']\n",
    "for nome in nomes_cidades:\n",
    "    print(nome)"
   ]
  },
  {
   "cell_type": "code",
   "execution_count": 2,
   "id": "eebc1afe",
   "metadata": {},
   "outputs": [
    {
     "name": "stdout",
     "output_type": "stream",
     "text": [
      "Rio de Janeiro\n",
      "Veneza\n",
      "Casaquistão\n"
     ]
    }
   ],
   "source": [
    "#Também funciona com tuplas\n",
    "nomes_cidades = 'Rio de Janeiro', 'Veneza', 'Casaquistão'\n",
    "for nome in nomes_cidades:\n",
    "    print(nome)"
   ]
  },
  {
   "cell_type": "code",
   "execution_count": 10,
   "id": "3de8a1ce",
   "metadata": {},
   "outputs": [
    {
     "name": "stdout",
     "output_type": "stream",
     "text": [
      "nome : Rio de Janeiro\n",
      "estado : Rio de Janeiro\n",
      "populacao : 15\n"
     ]
    }
   ],
   "source": [
    "# Assim como em dicionários\n",
    "cidade = {\n",
    "    'nome' : 'Rio de Janeiro',\n",
    "    'estado' : 'Rio de Janeiro',\n",
    "    'populacao' : '15'\n",
    "    \n",
    "}\n",
    "for chave in cidade:\n",
    "    print (f'{chave} : {cidade[chave]}')"
   ]
  },
  {
   "cell_type": "code",
   "execution_count": 7,
   "id": "1c9a9e42",
   "metadata": {},
   "outputs": [
    {
     "name": "stdout",
     "output_type": "stream",
     "text": [
      "[0, 1, 2, 3, 4, 5, 6, 7, 8, 9]\n",
      "[2, 3, 4, 5, 6, 7, 8, 9]\n",
      "[3, 6, 9]\n"
     ]
    }
   ],
   "source": [
    "# Método range, que possibilita criar uma lista de números com o valor final sendo -1 . (10 -1 = 9). \n",
    "# Se necessário o valor inicial separado por virgula, e um encremento na ultima posição\n",
    "print(list(range(10)))\n",
    "print(list(range(2,10)))\n",
    "print(list(range(3,10,3)))"
   ]
  },
  {
   "cell_type": "code",
   "execution_count": null,
   "id": "62f23706",
   "metadata": {},
   "outputs": [],
   "source": []
  }
 ],
 "metadata": {
  "kernelspec": {
   "display_name": "Python 3 (ipykernel)",
   "language": "python",
   "name": "python3"
  },
  "language_info": {
   "codemirror_mode": {
    "name": "ipython",
    "version": 3
   },
   "file_extension": ".py",
   "mimetype": "text/x-python",
   "name": "python",
   "nbconvert_exporter": "python",
   "pygments_lexer": "ipython3",
   "version": "3.10.7"
  }
 },
 "nbformat": 4,
 "nbformat_minor": 5
}
