{
 "cells": [
  {
   "cell_type": "code",
   "execution_count": 7,
   "id": "13273ec1",
   "metadata": {
    "scrolled": true
   },
   "outputs": [
    {
     "name": "stdout",
     "output_type": "stream",
     "text": [
      "Paz\n"
     ]
    }
   ],
   "source": [
    "#Sintax básica para declarar uma string. Deve estar dentro de 'aspas' ou \"aspas duplas\"\n",
    "familia = \"Paz\"\n",
    "print(familia)\n"
   ]
  },
  {
   "cell_type": "code",
   "execution_count": 8,
   "id": "8ef1c4e0",
   "metadata": {},
   "outputs": [
    {
     "name": "stdout",
     "output_type": "stream",
     "text": [
      "Paz2\n"
     ]
    }
   ],
   "source": [
    "#Sintax básica para declarar uma string. Deve estar dentro de 'aspas' ou \"aspas duplas\"\n",
    "familia2 = 'Paz2'\n",
    "print(familia2)"
   ]
  },
  {
   "cell_type": "code",
   "execution_count": 9,
   "id": "6b930223",
   "metadata": {},
   "outputs": [
    {
     "name": "stdout",
     "output_type": "stream",
     "text": [
      "A Gabi disse : \"Hoje eu preparo a comida\"\n"
     ]
    }
   ],
   "source": [
    "#frase = \"A Gabi disse : \"Hoje eu preparo a comida\"\" - > Dessa forma vai dar errado, pois é necessário usar a contrabarra(\\) \n",
    "# antes da aspas dentro da string\n",
    "frase = \"A Gabi disse : \\\"Hoje eu preparo a comida\\\"\"\n",
    "print(frase)"
   ]
  },
  {
   "cell_type": "code",
   "execution_count": 10,
   "id": "f6fbd9d4",
   "metadata": {},
   "outputs": [
    {
     "name": "stdout",
     "output_type": "stream",
     "text": [
      "Um, Dois, Três, Quatro, Cinco\n"
     ]
    }
   ],
   "source": [
    "#Declarando uma string com itens separados por virgula e espaço\n",
    "texto = \"Um, Dois, Três, Quatro, Cinco\"\n",
    "print(texto)"
   ]
  },
  {
   "cell_type": "code",
   "execution_count": 11,
   "id": "46f353f3",
   "metadata": {},
   "outputs": [
    {
     "name": "stdout",
     "output_type": "stream",
     "text": [
      "['Um', 'Dois', 'Três', 'Quatro', 'Cinco']\n"
     ]
    }
   ],
   "source": [
    "#Formando uma lista a partir de uma string, identificando as pausas a partir de virgula e espaço (', ')\n",
    "texto = texto.split (', ')\n",
    "print(texto)"
   ]
  },
  {
   "cell_type": "code",
   "execution_count": 12,
   "id": "ac5c0436",
   "metadata": {},
   "outputs": [
    {
     "name": "stdout",
     "output_type": "stream",
     "text": [
      "Um\n"
     ]
    }
   ],
   "source": [
    "#Trazendo o primeiro item da string transformada em lista\n",
    "print (texto[0])"
   ]
  },
  {
   "cell_type": "code",
   "execution_count": 14,
   "id": "ccfc02c5",
   "metadata": {},
   "outputs": [
    {
     "name": "stdout",
     "output_type": "stream",
     "text": [
      "                    menu                  \n",
      "menu\n"
     ]
    }
   ],
   "source": [
    "#O método \"strip\" elimina os espaços dentro da string\n",
    "cabecalho = \"                    menu                  \"\n",
    "print(cabecalho)\n",
    "print(cabecalho.strip())"
   ]
  },
  {
   "cell_type": "code",
   "execution_count": 17,
   "id": "4302291f",
   "metadata": {},
   "outputs": [
    {
     "name": "stdout",
     "output_type": "stream",
     "text": [
      "São Paulo\n",
      "São paulo\n",
      "são paulo\n",
      "SÃO PAULO\n"
     ]
    }
   ],
   "source": [
    "nome_cidade = 'SÃo Paulo'\n",
    "\n",
    "print(nome_cidade.title())\n",
    "print(nome_cidade.capitalize())\n",
    "print(nome_cidade.lower())\n",
    "print(nome_cidade.upper())\n",
    "\n"
   ]
  },
  {
   "cell_type": "code",
   "execution_count": 22,
   "id": "f694784e",
   "metadata": {},
   "outputs": [
    {
     "name": "stdout",
     "output_type": "stream",
     "text": [
      "Qual o nome da cidade conhecida como, \"Cidade da Garoa\"teste\n",
      "Tente novamente\n",
      "Qual o nome da cidade conhecida como, \"Cidade da Garoa\"são paulo\n",
      "Boa champz\n"
     ]
    }
   ],
   "source": [
    "# Algoritmo que solicita uma informação ao usuário (input) E elimina todos os espaços excedente (strip). \n",
    "# Entra numa estrutura condicional, onde, caso a informação do usuário (input), transformada em caixa baixa (.lower)\n",
    "# seja diferente (!=) de 'são paulo', solicite que tente novamente. Assim que acertar, retorna \"Boa champz\"\n",
    "\n",
    "qual_cidade = input('Qual o nome da cidade conhecida como, \\\"Cidade da Garoa\\\"')\n",
    "qual_cidade = qual_cidade.strip()\n",
    "while qual_cidade.lower() != 'são paulo':\n",
    "    print ('Tente novamente')\n",
    "    qual_cidade = input('Qual o nome da cidade conhecida como, \\\"Cidade da Garoa\\\"')\n",
    "    \n",
    "print('Boa champz')\n"
   ]
  },
  {
   "cell_type": "code",
   "execution_count": 23,
   "id": "77c04755",
   "metadata": {},
   "outputs": [
    {
     "name": "stdout",
     "output_type": "stream",
     "text": [
      "True\n"
     ]
    }
   ],
   "source": [
    "#Procura um determinado valor (Gabi) dentro da string mencionada (vaga_emprego) e retorna verdadeiro ou falso (True)\n",
    "\n",
    "vaga_emprego = \"Gabi vai conseguir a vaga de emprego!\"\n",
    "sera = 'Gabi' in vaga_emprego\n",
    "print(sera)"
   ]
  },
  {
   "cell_type": "code",
   "execution_count": 27,
   "id": "6add48d0",
   "metadata": {},
   "outputs": [
    {
     "name": "stdout",
     "output_type": "stream",
     "text": [
      "Alan S2 Gabi\n"
     ]
    }
   ],
   "source": [
    "# É possível utilizar operadores aritiméticos também com strings. Por exemplo para somar nomes e formar frases\n",
    "marido = \"Alan\"\n",
    "esposa = \"Gabi\"\n",
    "uniao = \"S2\"\n",
    "\n",
    "print (marido + \" \" +uniao + \" \"+ esposa)"
   ]
  },
  {
   "cell_type": "code",
   "execution_count": 42,
   "id": "9e3abad4",
   "metadata": {},
   "outputs": [
    {
     "name": "stdout",
     "output_type": "stream",
     "text": [
      "Alan Alan Alan Alan Alan \n"
     ]
    }
   ],
   "source": [
    "# Assim como multiplicar. Respeitando a ordem de operações\n",
    "print ((marido + \" \") * 5 )"
   ]
  },
  {
   "cell_type": "code",
   "execution_count": 31,
   "id": "b2f2107c",
   "metadata": {},
   "outputs": [
    {
     "name": "stdout",
     "output_type": "stream",
     "text": [
      "Alan tem 27 anos\n"
     ]
    }
   ],
   "source": [
    "# Quando se soma strings com outros tipos, é necessário antes transformar em string. str(variável) + ...\n",
    "idade =  27\n",
    "\n",
    "print (marido + \" tem \" + str(idade) + \" anos\")"
   ]
  },
  {
   "cell_type": "code",
   "execution_count": 33,
   "id": "25a0dbe6",
   "metadata": {},
   "outputs": [
    {
     "name": "stdout",
     "output_type": "stream",
     "text": [
      "Alan tem 27 anos e uma Gabi S2\n"
     ]
    }
   ],
   "source": [
    "#Utilizando o método format(.format ao final da expressão) para juntar strings\n",
    "print ('{} tem {} anos e uma {} {}' .format (marido, idade, esposa, uniao))"
   ]
  },
  {
   "cell_type": "code",
   "execution_count": 35,
   "id": "f3b311ed",
   "metadata": {},
   "outputs": [
    {
     "name": "stdout",
     "output_type": "stream",
     "text": [
      "O preço da gasolina hoje subiu e está em R$ 6.58\n"
     ]
    }
   ],
   "source": [
    "#Utilizando o método format para selecionar duas casa decimais {:.2f} (2 significa a quantidade de casas e o F para chamar o método)\n",
    "preco_gasolina = 6.5789\n",
    "print (\"O preço da gasolina hoje subiu e está em R$ {:.2f}\".format (preco_gasolina))"
   ]
  },
  {
   "cell_type": "code",
   "execution_count": 38,
   "id": "1d1a5b1a",
   "metadata": {},
   "outputs": [
    {
     "name": "stdout",
     "output_type": "stream",
     "text": [
      "Alan tem 27 anos e uma Gabi S2\n"
     ]
    }
   ],
   "source": [
    "#Utilizando uma forma mais resumida, trazendo a variável direto nos espaços {} em vez de trazer após o .format\n",
    "print (f'{marido} tem {idade} anos e uma {esposa} {uniao}')"
   ]
  },
  {
   "cell_type": "code",
   "execution_count": 86,
   "id": "c635802f",
   "metadata": {},
   "outputs": [
    {
     "name": "stdout",
     "output_type": "stream",
     "text": [
      "Diga seu nomeGabi\n",
      "Gabi não está presente\n"
     ]
    }
   ],
   "source": [
    "#Atividade 3 do PDF da LEts Code. Consiste em criar um algoritmo de chamada em sala de aula\n",
    "nomes = 'Alan'\n",
    "chamada = input ('Diga seu nome')\n",
    "sera = chamada in nomes\n",
    "if (sera == True):\n",
    "    print(chamada + \" está presente\")\n",
    "else:\n",
    "    print (chamada + \" não está presente\")\n",
    "        \n",
    "   "
   ]
  },
  {
   "cell_type": "code",
   "execution_count": null,
   "id": "5cb84d75",
   "metadata": {},
   "outputs": [],
   "source": []
  }
 ],
 "metadata": {
  "kernelspec": {
   "display_name": "Python 3 (ipykernel)",
   "language": "python",
   "name": "python3"
  },
  "language_info": {
   "codemirror_mode": {
    "name": "ipython",
    "version": 3
   },
   "file_extension": ".py",
   "mimetype": "text/x-python",
   "name": "python",
   "nbconvert_exporter": "python",
   "pygments_lexer": "ipython3",
   "version": "3.10.7"
  }
 },
 "nbformat": 4,
 "nbformat_minor": 5
}
