{
 "cells": [
  {
   "cell_type": "code",
   "execution_count": null,
   "id": "3eaf1c8a",
   "metadata": {},
   "outputs": [],
   "source": [
    "#https://drive.google.com/drive/folders/1bn2U2eEflAuHZ20vQlnXvBvnmrpfyIFt"
   ]
  },
  {
   "cell_type": "code",
   "execution_count": null,
   "id": "3e1e0b8a",
   "metadata": {},
   "outputs": [],
   "source": [
    "#Receber um valor e subtrair 15% dele\n",
    "valor_liquido = float (input('Digite seu salário '))\n",
    "desconto = valor_liquido * 0.15\n",
    "print('O novo valor é R$ ' +  str (valor_liquido - desconto) + \" e o valor de desconto é R$ \" + str(desconto))\n"
   ]
  },
  {
   "cell_type": "code",
   "execution_count": 19,
   "id": "12270612",
   "metadata": {
    "scrolled": true
   },
   "outputs": [
    {
     "name": "stdout",
     "output_type": "stream",
     "text": [
      "DIgite sua Idade 27\n",
      "DIgite seu salário 2500.05\n",
      "Sexo? f\n",
      "Meu nome é Alan, tenho 27 anos e recebo um salário de R$ 2500.05 e sou do sexo Feminino\n"
     ]
    }
   ],
   "source": [
    "# Receber os valores de idade,salario e sexo e colocar um erro para, se o valor vier a ser diferente  do proposto.\n",
    "# Gostaria de conseguir receber valores quebrados em salario, e transformar uma variável em outro valor, exemplo M > Masculino\n",
    "# Ou seja, se o usuário digitar M, sair Masculino no print\n",
    "\n",
    "dados_atividades = {\n",
    "    'M' : 'Masculino',\n",
    "    'F' : 'Feminino'\n",
    "}\n",
    "idade = int(input ('DIgite sua Idade '))\n",
    "while ((idade <= 0) or (idade > 150)):\n",
    "    print('Essa idade não é valida. DIgite um número entre 0 e 150')\n",
    "    idade = int(input ('DIgite sua Idade '))\n",
    "    \n",
    "salario = float(input ('DIgite seu salário '))\n",
    "while (salario == 0 ):\n",
    "    print(\"Seu salário não pode ser 0\")\n",
    "    salario = float(input ('DIgite seu salário '))\n",
    "\n",
    "sexo_pessoa = str(input('Sexo? '))\n",
    "sexo_pessoa = sexo_pessoa.upper()\n",
    "while sexo_pessoa !='M'and sexo_pessoa != 'F':\n",
    "    print('Digite seu sexo entre as opções M ou F. Sendo M para Masculino e F para Feminino')\n",
    "    sexo_pessoa = str(input('Sexo? '))\n",
    "if sexo_pessoa == 'M':\n",
    "    sexo_pessoa = (dados_atividades['M'])\n",
    "if sexo_pessoa == 'F':\n",
    "    sexo_pessoa = (dados_atividades['F'])\n",
    "\n",
    "    \n",
    "\n",
    "print('Meu nome é Alan, tenho ' + str(idade) + ' anos e recebo um salário de R$ ' + str(salario) + ' e sou do sexo ' + sexo_pessoa)\n"
   ]
  },
  {
   "cell_type": "code",
   "execution_count": null,
   "id": "45571e6d",
   "metadata": {},
   "outputs": [],
   "source": []
  }
 ],
 "metadata": {
  "kernelspec": {
   "display_name": "Python 3 (ipykernel)",
   "language": "python",
   "name": "python3"
  },
  "language_info": {
   "codemirror_mode": {
    "name": "ipython",
    "version": 3
   },
   "file_extension": ".py",
   "mimetype": "text/x-python",
   "name": "python",
   "nbconvert_exporter": "python",
   "pygments_lexer": "ipython3",
   "version": "3.10.7"
  }
 },
 "nbformat": 4,
 "nbformat_minor": 5
}
