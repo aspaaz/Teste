{
 "cells": [
  {
   "cell_type": "code",
   "execution_count": 6,
   "id": "13962ad0",
   "metadata": {},
   "outputs": [],
   "source": [
    "import csv\n"
   ]
  },
  {
   "cell_type": "code",
   "execution_count": 28,
   "id": "d7140929",
   "metadata": {},
   "outputs": [
    {
     "name": "stdout",
     "output_type": "stream",
     "text": [
      "['RA', 'Nome', 'Frequencia', 'Prova_1', 'Prova_2', 'Prova_3', 'Prova_4']\n",
      "['110201', 'Antonio Carlos', '20', '6.5', '8.5', '7', '6']\n",
      "['110212', 'Ana Beatriz', '20', '7', '7', '7', '8']\n",
      "['110218', 'Carlos Vernes', '17', '7', '7', '7', '7']\n",
      "['110307', 'Francisco Cunha', '20', '9', '8.5', '8.5', '10']\n",
      "['110275', 'Sandra Rosa', '15', '6.5', '7.5', '7', '7']\n",
      "['110281', 'Juliana Arruda', '18', '7.5', '7', '7.5', '8']\n",
      "['110301', 'Joao Galo', '20', '5', '6.5', '7', '5']\n",
      "['110263', 'José Valente', '20', '10', '10', '10', '10']\n",
      "['110271', 'Maria Ferreira', '19', '9.5', '8', '7', '10']\n",
      "['110236', 'Adriana Tavares', '20', '8', '8', '8', '8']\n"
     ]
    }
   ],
   "source": [
    "alunos_csv = open ('alunos.csv', 'r', encoding='utf-8')\n",
    "leitor = csv.reader(alunos_csv)\n",
    "for linha in leitor:\n",
    "    print(linha)\n",
    "        \n",
    "    "
   ]
  },
  {
   "cell_type": "code",
   "execution_count": 35,
   "id": "a4d034c0",
   "metadata": {},
   "outputs": [],
   "source": [
    "with open ('alunos_copia.csv', 'w', encoding='utf-8') as alunos_copia:\n",
    "    escritor = csv.writer(alunos_copia)\n",
    "    for escritor in alunos_csv:\n",
    "        print(alunos_copia) "
   ]
  },
  {
   "cell_type": "code",
   "execution_count": 54,
   "id": "65cbc495",
   "metadata": {},
   "outputs": [],
   "source": [
    "\n",
    "with open('alunos_copia.csv', 'w', encoding='utf-8', newline='') as alunos_copia:\n",
    "    escritor = csv.writer(alunos_copia)\n",
    "    escritor.writerow (['RA', 'Nome', 'Frequencia', 'Prova_1', 'Prova_2', 'Prova_3', 'Prova_4'])\n",
    "    escritor.writerow (['110201', 'Antonio Carlos', '20', '6.5', '8.5', '7', '6'])\n",
    "    escritor.writerow (['110212', 'Ana Beatriz', '20', '7', '7', '7', '8'])\n",
    "    escritor.writerow (['110218', 'Carlos Vernes', '17', '7', '7', '7', '7'])\n",
    "    escritor.writerow (['110307', 'Francisco Cunha', '20', '9', '8.5', '8.5', '10'])\n",
    "    escritor.writerow (['110275', 'Sandra Rosa', '15', '6.5', '7.5', '7', '7'])\n",
    "    escritor.writerow (['110281', 'Juliana Arruda', '18', '7.5', '7', '7.5', '8'])\n",
    "    escritor.writerow (['110301', 'Joao Galo', '20', '5', '6.5', '7', '5'])\n",
    "    escritor.writerow (['110263', 'José Valente', '20', '10', '10', '10', '10'])\n",
    "    escritor.writerow (['110271', 'Maria Ferreira', '19', '9.5', '8', '7', '10'])\n",
    "    escritor.writerow (['110236', 'Adriana Tavares', '20', '8', '8', '8', '8'])\n",
    "    \n",
    "    "
   ]
  },
  {
   "cell_type": "code",
   "execution_count": 85,
   "id": "c59268be",
   "metadata": {
    "scrolled": true
   },
   "outputs": [],
   "source": [
    "with open('alunos_copia.csv', 'w', encoding='utf-8', newline='') as alunos_copia:\n",
    "    escritor = csv.writer(alunos_copia)\n",
    "    escritor.writerow (['RA', 'Nome', 'Frequencia', 'Prova_1', 'Prova_2', 'Prova_3', 'Prova_4', 'Media'])\n",
    "    escritor.writerow (['110201', 'Antonio Carlos', '20', '6.5', '8.5', '7', '6', float((6+6.5+8.5+7)/ 4)])\n",
    "    escritor.writerow (['110212', 'Ana Beatriz', '20', '7', '7', '7', '8', float((7+7+7+8)/ 4)])\n",
    "    escritor.writerow (['110218', 'Carlos Vernes', '17', '7', '7', '7', '7', float((7+7+7+7)/ 4)])\n",
    "    escritor.writerow (['110307', 'Francisco Cunha', '20', '9', '8.5', '8.5', '10', float((9+8.5+8.5+10)/ 4)])\n",
    "    escritor.writerow (['110275', 'Sandra Rosa', '15', '6.5', '7.5', '7', '7', float((6.5+7.5+7+7)/ 4)])\n",
    "    escritor.writerow (['110281', 'Juliana Arruda', '18', '7.5', '7', '7.5', '8', float((7.5+7.5+7.5+8)/ 4)])\n",
    "    escritor.writerow (['110301', 'Joao Galo', '20', '5', '6.5', '7', '5', float((5+6.5+7.5+5)/ 4)])\n",
    "    escritor.writerow (['110263', 'José Valente', '20', '10', '10', '10', '10', float((10+10+10+10)/ 4)])\n",
    "    escritor.writerow (['110271', 'Maria Ferreira', '19', '9.5', '8', '7', '10', float((9.5+8+7+10)/ 4)])\n",
    "    escritor.writerow (['110236', 'Adriana Tavares', '20', '8', '8', '8', '8', float((8+8+8+8)/ 4)])\n",
    "    escritor.writerow (['110236', 'Adriana Tavares', '20', '8', '8', '8', '8', float((8+8+8+8)/ 4) ])\n",
    "    "
   ]
  },
  {
   "cell_type": "code",
   "execution_count": null,
   "id": "6bcae2e4",
   "metadata": {},
   "outputs": [],
   "source": []
  }
 ],
 "metadata": {
  "kernelspec": {
   "display_name": "Python 3 (ipykernel)",
   "language": "python",
   "name": "python3"
  },
  "language_info": {
   "codemirror_mode": {
    "name": "ipython",
    "version": 3
   },
   "file_extension": ".py",
   "mimetype": "text/x-python",
   "name": "python",
   "nbconvert_exporter": "python",
   "pygments_lexer": "ipython3",
   "version": "3.10.7"
  }
 },
 "nbformat": 4,
 "nbformat_minor": 5
}
