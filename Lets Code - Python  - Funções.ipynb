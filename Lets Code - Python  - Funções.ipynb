{
 "cells": [
  {
   "cell_type": "code",
   "execution_count": 30,
   "id": "51e30eec",
   "metadata": {},
   "outputs": [
    {
     "name": "stdout",
     "output_type": "stream",
     "text": [
      "Hello, World!\n"
     ]
    }
   ],
   "source": [
    "# Criando uma função, onde, ao chamar a \"hello\", deve retornar o print de \"Hello, World!\". \n",
    "#Logo após, eu chamo a função (hello())\n",
    "\n",
    "def hello():\n",
    "    print('Hello, World!')\n",
    "\n",
    "hello()"
   ]
  },
  {
   "cell_type": "code",
   "execution_count": 18,
   "id": "4a838f85",
   "metadata": {},
   "outputs": [],
   "source": [
    "#Função que calcula a média de 3 valores informados. Ao final, retornamos o valor da varíavel da qual guardamos o resultado\n",
    "# return media (variavel)\n",
    "def calcula_media(v1,v2,v3):\n",
    "    soma= v1 + v2 + v3 \n",
    "    media = soma / 3\n",
    "    return media"
   ]
  },
  {
   "cell_type": "code",
   "execution_count": 25,
   "id": "498a7ef3",
   "metadata": {},
   "outputs": [
    {
     "name": "stdout",
     "output_type": "stream",
     "text": [
      "2\n"
     ]
    }
   ],
   "source": [
    "#Nesse caso, chamamos a função e guardamos em uma variável (resultado), \n",
    "# informamos um valor para cada parametro (v1,v2,v3 = 2,3,2)\n",
    "resultado = int(calcula_media(2,3,2))\n",
    "print(resultado)"
   ]
  },
  {
   "cell_type": "code",
   "execution_count": 26,
   "id": "5aab9716",
   "metadata": {},
   "outputs": [
    {
     "name": "stdout",
     "output_type": "stream",
     "text": [
      "6\n"
     ]
    }
   ],
   "source": [
    "# Também é possível declarar o parametro e informar o valor a seguir\n",
    "resultado2 = int(calcula_media(v1=2,v2=3,v3=15))\n",
    "print(resultado2)"
   ]
  },
  {
   "cell_type": "code",
   "execution_count": 29,
   "id": "6d758366",
   "metadata": {},
   "outputs": [
    {
     "name": "stdout",
     "output_type": "stream",
     "text": [
      "Olá\n",
      "Alan\n",
      "Olá321Olá321"
     ]
    }
   ],
   "source": [
    "#Por padrão, ao final de cada string, a função print da um ENTER. podemos alterar isso usando o método end = ' aqui dizemos o que vai no final'\n",
    "print ('Olá',)\n",
    "print ('Alan')\n",
    "print ('Olá', end='321')\n",
    "print ('Olá', end='321')"
   ]
  },
  {
   "cell_type": "code",
   "execution_count": 35,
   "id": "113bd214",
   "metadata": {},
   "outputs": [
    {
     "data": {
      "text/plain": [
       "22.2"
      ]
     },
     "execution_count": 35,
     "metadata": {},
     "output_type": "execute_result"
    }
   ],
   "source": [
    "#Quando não sabemos ao certo quantos parametros há para ser inseridos, utilizamos o método \"args\", \n",
    "#que consiste em inserir * dentro do parametro da função e alguma variável (args)\n",
    "def calcula_media2(*args):\n",
    "    soma = sum(args)\n",
    "    media = soma / len(args)\n",
    "    return media\n",
    "    \n",
    "calcula_media2(5,4,6,87,9)"
   ]
  }
 ],
 "metadata": {
  "kernelspec": {
   "display_name": "Python 3 (ipykernel)",
   "language": "python",
   "name": "python3"
  },
  "language_info": {
   "codemirror_mode": {
    "name": "ipython",
    "version": 3
   },
   "file_extension": ".py",
   "mimetype": "text/x-python",
   "name": "python",
   "nbconvert_exporter": "python",
   "pygments_lexer": "ipython3",
   "version": "3.10.7"
  }
 },
 "nbformat": 4,
 "nbformat_minor": 5
}
