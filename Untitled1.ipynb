{
 "cells": [
  {
   "cell_type": "code",
   "execution_count": 1,
   "id": "f2fa9575",
   "metadata": {},
   "outputs": [],
   "source": [
    "import requests as r"
   ]
  },
  {
   "cell_type": "code",
   "execution_count": 2,
   "id": "e4f53832",
   "metadata": {},
   "outputs": [],
   "source": [
    "url = 'https://api.covid19api.com/dayone/country/brazil'"
   ]
  },
  {
   "cell_type": "code",
   "execution_count": 3,
   "id": "9527bdb5",
   "metadata": {},
   "outputs": [],
   "source": [
    "resp= r.get(url)"
   ]
  },
  {
   "cell_type": "code",
   "execution_count": 4,
   "id": "e3189ba2",
   "metadata": {},
   "outputs": [
    {
     "data": {
      "text/plain": [
       "200"
      ]
     },
     "execution_count": 4,
     "metadata": {},
     "output_type": "execute_result"
    }
   ],
   "source": [
    "resp.status_code"
   ]
  },
  {
   "cell_type": "code",
   "execution_count": 5,
   "id": "2261c47a",
   "metadata": {},
   "outputs": [],
   "source": [
    "raw_data = resp.json()"
   ]
  },
  {
   "cell_type": "code",
   "execution_count": 6,
   "id": "2972d487",
   "metadata": {},
   "outputs": [
    {
     "data": {
      "text/plain": [
       "{'ID': '63aa488e-b4a2-4fcd-ae15-07c1ff219903',\n",
       " 'Country': 'Brazil',\n",
       " 'CountryCode': 'BR',\n",
       " 'Province': '',\n",
       " 'City': '',\n",
       " 'CityCode': '',\n",
       " 'Lat': '-14.24',\n",
       " 'Lon': '-51.93',\n",
       " 'Confirmed': 1,\n",
       " 'Deaths': 0,\n",
       " 'Recovered': 0,\n",
       " 'Active': 1,\n",
       " 'Date': '2020-02-26T00:00:00Z'}"
      ]
     },
     "execution_count": 6,
     "metadata": {},
     "output_type": "execute_result"
    }
   ],
   "source": [
    "raw_data[0]"
   ]
  },
  {
   "cell_type": "code",
   "execution_count": 7,
   "id": "f82589db",
   "metadata": {},
   "outputs": [],
   "source": [
    "final_data = []\n",
    "for obs in raw_data:\n",
    "    final_data.append([obs['Confirmed'], obs['Deaths'], obs['Recovered'], obs['Active'], obs['Date']])"
   ]
  },
  {
   "cell_type": "code",
   "execution_count": 8,
   "id": "5a501339",
   "metadata": {},
   "outputs": [],
   "source": [
    "final_data.insert(0, ['Confirmados', 'Obitos', 'Recuperados', 'Ativos', 'Data'])\n"
   ]
  },
  {
   "cell_type": "code",
   "execution_count": 9,
   "id": "9c339007",
   "metadata": {},
   "outputs": [],
   "source": [
    "CONFIRMADOS = 0\n",
    "OBITOS = 1\n",
    "RECUPERADOS = 2\n",
    "ATIVOS = 3\n",
    "DATA = 4"
   ]
  },
  {
   "cell_type": "code",
   "execution_count": 10,
   "id": "d5d46beb",
   "metadata": {},
   "outputs": [],
   "source": [
    "for i in range (1, len(final_data)):\n",
    "    final_data[i][DATA] =  final_data[i][DATA][:10]"
   ]
  },
  {
   "cell_type": "code",
   "execution_count": 11,
   "id": "fe87dbe0",
   "metadata": {},
   "outputs": [],
   "source": [
    "import datetime as dt"
   ]
  },
  {
   "cell_type": "code",
   "execution_count": 12,
   "id": "4f15676b",
   "metadata": {},
   "outputs": [],
   "source": [
    "import csv"
   ]
  },
  {
   "cell_type": "code",
   "execution_count": 13,
   "id": "988a7dae",
   "metadata": {},
   "outputs": [],
   "source": [
    "with open('brasil_covid_novo.csv', 'w') as file:\n",
    "    writer = csv.writer(file)\n",
    "    writer.writerow(final_data)"
   ]
  },
  {
   "cell_type": "code",
   "execution_count": 15,
   "id": "fb227169",
   "metadata": {},
   "outputs": [],
   "source": [
    "for i in range (1, len(final_data)):\n",
    "    final_data[i][DATA] = dt.datetime.strptime( final_data[i][DATA], '%Y-%m-%d')"
   ]
  },
  {
   "cell_type": "code",
   "execution_count": 32,
   "id": "ff1b57f1",
   "metadata": {},
   "outputs": [],
   "source": [
    "def get_datasets(y, labels):\n",
    "    if type(y[0]) == list:\n",
    "        datasets = []\n",
    "        for i in range(len(y)):\n",
    "            datasets.append({\n",
    "                'label': labels[i],\n",
    "                'data': y[i]  \n",
    "            })\n",
    "        return datasets\n",
    "    else:\n",
    "        return [{\n",
    "            'label': labels[0],\n",
    "            'data': y\n",
    "            }\n",
    "        ]"
   ]
  },
  {
   "cell_type": "code",
   "execution_count": 33,
   "id": "9bbd627a",
   "metadata": {},
   "outputs": [],
   "source": [
    "def set_title(title= ''):\n",
    "    if title != '':\n",
    "        display = 'true'\n",
    "    else:\n",
    "        display = 'false'\n",
    "    return {\n",
    "        'title' : title,\n",
    "        'display': display\n",
    "    }"
   ]
  },
  {
   "cell_type": "code",
   "execution_count": 34,
   "id": "d7ffc40d",
   "metadata": {},
   "outputs": [],
   "source": [
    "def create_chart (x, y, labels, kind='bar', title=''):\n",
    "    \n",
    "    datasets = get_datasets(y, labels)\n",
    "    options = set_title(title)\n",
    "    \n",
    "    chart = {\n",
    "        'type': kind,\n",
    "        'data': {\n",
    "            'labels': x,\n",
    "            'datasets': datasets\n",
    "        },\n",
    "        'options': options\n",
    "    }\n",
    "    return chart"
   ]
  },
  {
   "cell_type": "code",
   "execution_count": 35,
   "id": "85c5a16e",
   "metadata": {},
   "outputs": [],
   "source": [
    "def get_api_chart (chart):\n",
    "    url_base = 'https://quickchart.io/chart'\n",
    "    resp = r.get(f'{url_base}?c={str(chart)}')\n",
    "    return resp.content"
   ]
  },
  {
   "cell_type": "code",
   "execution_count": 36,
   "id": "360dae0d",
   "metadata": {},
   "outputs": [],
   "source": [
    "def save_image(path, content):\n",
    "    with open (path, 'wb') as image:\n",
    "        image.write(content)"
   ]
  },
  {
   "cell_type": "code",
   "execution_count": 37,
   "id": "41faf15a",
   "metadata": {},
   "outputs": [
    {
     "name": "stdout",
     "output_type": "stream",
     "text": [
      "Requirement already satisfied: Pillow in c:\\users\\alan\\appdata\\local\\programs\\python\\python310\\lib\\site-packages (9.2.0)\n"
     ]
    }
   ],
   "source": [
    "!pip install Pillow\n",
    "from PIL import Image\n",
    "from IPython.display import display"
   ]
  },
  {
   "cell_type": "code",
   "execution_count": 38,
   "id": "c85050a1",
   "metadata": {},
   "outputs": [],
   "source": [
    "def display_image (path):\n",
    "    img_pil = Image.open(path)\n",
    "    display(img_pil)"
   ]
  },
  {
   "cell_type": "code",
   "execution_count": 40,
   "id": "2ccd7702",
   "metadata": {},
   "outputs": [
    {
     "data": {
      "image/png": "[encoded data removed]",
      "text/plain": [
       "<PIL.PngImagePlugin.PngImageFile image mode=RGBA size=1000x600>"
      ]
     },
     "metadata": {},
     "output_type": "display_data"
    }
   ],
   "source": [
    "y_data_1 = []\n",
    "for bs in final_data [1::365]:\n",
    "    y_data_1.append([0])\n",
    "    \n",
    "y_data_2 = []\n",
    "for bs in final_data [1::365]:\n",
    "    y_data_2.append([2])\n",
    "    \n",
    "labels = ['Confirmados', 'Recuperados']\n",
    "          \n",
    "x = []\n",
    "for bs in final_data [1::365]:\n",
    "    x.append(obs[DATA].strftime('%d/%m/%Y'))\n",
    "          \n",
    "chart = create_chart (x, [y_data_1, y_data_2], labels, title ='Gráfico confirmados x recuperados')\n",
    "chart_content = get_api_chart(chart)\n",
    "save_image('meu-primeiro-grafico.png', chart_content)\n",
    "display_image('meu-primeiro-grafico.png')"
   ]
  },
  {
   "cell_type": "code",
   "execution_count": null,
   "id": "4982a7d2",
   "metadata": {},
   "outputs": [],
   "source": []
  }
 ],
 "metadata": {
  "kernelspec": {
   "display_name": "Python 3 (ipykernel)",
   "language": "python",
   "name": "python3"
  },
  "language_info": {
   "codemirror_mode": {
    "name": "ipython",
    "version": 3
   },
   "file_extension": ".py",
   "mimetype": "text/x-python",
   "name": "python",
   "nbconvert_exporter": "python",
   "pygments_lexer": "ipython3",
   "version": "3.10.7"
  }
 },
 "nbformat": 4,
 "nbformat_minor": 5
}
