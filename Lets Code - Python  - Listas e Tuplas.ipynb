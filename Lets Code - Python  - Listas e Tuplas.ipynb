{
 "cells": [
  {
   "cell_type": "code",
   "execution_count": 22,
   "id": "9c33904c",
   "metadata": {},
   "outputs": [
    {
     "name": "stdout",
     "output_type": "stream",
     "text": [
      "['Gabi', 'Steph', 'Isa', 'Lindsey', 'Leandro', 'Alan']\n"
     ]
    }
   ],
   "source": [
    "# Criar uma lista, definindo os itens de cada posição.\n",
    "nome_amigos = ['Gabi', 'Steph', 'Isa', 'Lindsey', 'Leandro', 'Alan']\n",
    "print (nome_amigos)"
   ]
  },
  {
   "cell_type": "code",
   "execution_count": 23,
   "id": "093fb332",
   "metadata": {},
   "outputs": [
    {
     "name": "stdout",
     "output_type": "stream",
     "text": [
      "Quantidade de amigos 6\n"
     ]
    }
   ],
   "source": [
    "#Contar quantos itens tem na lista\n",
    "print ('Quantidade de amigos' , len(nome_amigos))"
   ]
  },
  {
   "cell_type": "code",
   "execution_count": 24,
   "id": "2e4b8365",
   "metadata": {},
   "outputs": [
    {
     "name": "stdout",
     "output_type": "stream",
     "text": [
      "Quem será? Alan\n"
     ]
    }
   ],
   "source": [
    "#Procurar o item que se encontra na posição informada [5]\n",
    "print ('Quem será?',nome_amigos [5])"
   ]
  },
  {
   "cell_type": "code",
   "execution_count": 25,
   "id": "dab3f6cb",
   "metadata": {},
   "outputs": [
    {
     "name": "stdout",
     "output_type": "stream",
     "text": [
      "Alan\n"
     ]
    }
   ],
   "source": [
    "#Procurar o item utilizando valor negativo. Nessa ocasição, iremos trazer o valor de trás pra frente na posiçãp [-1] = Primeira posição\n",
    "print (nome_amigos[-1])"
   ]
  },
  {
   "cell_type": "code",
   "execution_count": 26,
   "id": "e14752c0",
   "metadata": {},
   "outputs": [
    {
     "name": "stdout",
     "output_type": "stream",
     "text": [
      "['Gabi', 'Steph', 'Isa', 'Lindsey']\n"
     ]
    }
   ],
   "source": [
    "#Trás todos os itens entre a posição inicial [inicial:final] e a final. Quando não coloco nenhum valor, \n",
    "# ele sempre me começa da primeira posição\n",
    "print (nome_amigos[:4])"
   ]
  },
  {
   "cell_type": "code",
   "execution_count": 27,
   "id": "4d663f48",
   "metadata": {},
   "outputs": [
    {
     "name": "stdout",
     "output_type": "stream",
     "text": [
      "['Alan', 'Leandro', 'Lindsey', 'Isa', 'Steph', 'Gabi']\n"
     ]
    }
   ],
   "source": [
    "# Trás todos os itens entre a posição inicial e final, de trás pra frente [-1]\n",
    "print (nome_amigos [: : -1])"
   ]
  },
  {
   "cell_type": "code",
   "execution_count": 30,
   "id": "75cfd869",
   "metadata": {},
   "outputs": [
    {
     "name": "stdout",
     "output_type": "stream",
     "text": [
      "False\n"
     ]
    }
   ],
   "source": [
    "#Afirma que 'Alan', não está na lista, e como está, ele retorna False\n",
    "print ('Alan'not in nome_amigos)"
   ]
  },
  {
   "cell_type": "code",
   "execution_count": 40,
   "id": "068812c2",
   "metadata": {},
   "outputs": [
    {
     "name": "stdout",
     "output_type": "stream",
     "text": [
      "True\n"
     ]
    }
   ],
   "source": [
    "#Afirma que 'Italo', não está na lista, e como não está, ele retorna True\n",
    "print ('Italo'not in nome_amigos)"
   ]
  },
  {
   "cell_type": "code",
   "execution_count": 32,
   "id": "f79fba22",
   "metadata": {},
   "outputs": [],
   "source": [
    "#Cria uma lista, sem itens.\n",
    "amigos_ausentes = []"
   ]
  },
  {
   "cell_type": "code",
   "execution_count": 35,
   "id": "53206705",
   "metadata": {},
   "outputs": [],
   "source": [
    "#Insere itens na lista, sem determinar posição.\n",
    "amigos_ausentes.append('italo')\n",
    "amigos_ausentes.append('Gordo')\n",
    "amigos_ausentes.append('May')\n",
    "amigos_ausentes.append('Apolo')\n",
    "amigos_ausentes.append('Silvio')\n",
    "amigos_ausentes.append('Sophia')"
   ]
  },
  {
   "cell_type": "code",
   "execution_count": 36,
   "id": "e6961cde",
   "metadata": {},
   "outputs": [
    {
     "name": "stdout",
     "output_type": "stream",
     "text": [
      "['italo', 'italo', 'Gordo', 'May', 'Apolo', 'Silvio', 'Sophia']\n"
     ]
    }
   ],
   "source": [
    "#Retorna a lista\n",
    "print (amigos_ausentes)"
   ]
  },
  {
   "cell_type": "code",
   "execution_count": 37,
   "id": "75386b87",
   "metadata": {},
   "outputs": [],
   "source": [
    "# Inclui um item na posição informada.\n",
    "amigos_ausentes.insert(1, 'Guilherme')\n",
    "print (amigos_ausentes)"
   ]
  },
  {
   "cell_type": "code",
   "execution_count": 39,
   "id": "25dc395b",
   "metadata": {},
   "outputs": [
    {
     "name": "stdout",
     "output_type": "stream",
     "text": [
      "['italo', 'italo', 'Gordo', 'May', 'Apolo', 'Silvio', 'Sophia']\n"
     ]
    }
   ],
   "source": [
    "#Remove o item com a descrição informada entre ''.\n",
    "amigos_ausentes.remove ('Guilherme')\n",
    "print (amigos_ausentes)"
   ]
  },
  {
   "cell_type": "code",
   "execution_count": 41,
   "id": "7f1a6264",
   "metadata": {},
   "outputs": [
    {
     "name": "stdout",
     "output_type": "stream",
     "text": [
      "['italo', 'Gordo', 'May', 'Apolo', 'Silvio', 'Sophia']\n"
     ]
    }
   ],
   "source": [
    "#Remove o item da posição informada\n",
    "amigos_ausentes.pop(0)\n",
    "print(amigos_ausentes)"
   ]
  },
  {
   "cell_type": "code",
   "execution_count": 7,
   "id": "5bccbca9",
   "metadata": {},
   "outputs": [
    {
     "name": "stdout",
     "output_type": "stream",
     "text": [
      "['ALan', 'Gabi', 'Aslan', 'Leia'] Há 4 itens na lista\n"
     ]
    }
   ],
   "source": [
    "#Atividade 2 do PDF da LEts Code. Consiste em trazer uma lista e dizer quantos itens há nela.\n",
    "lista_atividade = ['ALan','Gabi','Aslan','Leia']\n",
    "\n",
    "print(lista_atividade,'Há', len(lista_atividade),'itens na lista' )"
   ]
  },
  {
   "cell_type": "code",
   "execution_count": null,
   "id": "705dee3e",
   "metadata": {},
   "outputs": [],
   "source": []
  }
 ],
 "metadata": {
  "kernelspec": {
   "display_name": "Python 3 (ipykernel)",
   "language": "python",
   "name": "python3"
  },
  "language_info": {
   "codemirror_mode": {
    "name": "ipython",
    "version": 3
   },
   "file_extension": ".py",
   "mimetype": "text/x-python",
   "name": "python",
   "nbconvert_exporter": "python",
   "pygments_lexer": "ipython3",
   "version": "3.10.7"
  }
 },
 "nbformat": 4,
 "nbformat_minor": 5
}
