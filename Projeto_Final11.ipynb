{
 "cells": [
  {
   "cell_type": "code",
   "execution_count": 2,
   "id": "eab0e5c1",
   "metadata": {},
   "outputs": [],
   "source": [
    "import requests as r"
   ]
  },
  {
   "cell_type": "code",
   "execution_count": 3,
   "id": "5b9c6d6a",
   "metadata": {},
   "outputs": [],
   "source": [
    "url = 'https://api.covid19api.com/dayone/country/brazil'"
   ]
  },
  {
   "cell_type": "code",
   "execution_count": 4,
   "id": "53fa6386",
   "metadata": {},
   "outputs": [],
   "source": [
    "resp= r.get(url)"
   ]
  },
  {
   "cell_type": "code",
   "execution_count": 5,
   "id": "dbe81505",
   "metadata": {},
   "outputs": [
    {
     "data": {
      "text/plain": [
       "200"
      ]
     },
     "execution_count": 5,
     "metadata": {},
     "output_type": "execute_result"
    }
   ],
   "source": [
    "resp.status_code"
   ]
  },
  {
   "cell_type": "code",
   "execution_count": 6,
   "id": "7b31a5c4",
   "metadata": {
    "scrolled": false
   },
   "outputs": [],
   "source": [
    "raw_data = resp.json()"
   ]
  },
  {
   "cell_type": "code",
   "execution_count": 7,
   "id": "581a187b",
   "metadata": {},
   "outputs": [
    {
     "data": {
      "text/plain": [
       "{'ID': '63aa488e-b4a2-4fcd-ae15-07c1ff219903',\n",
       " 'Country': 'Brazil',\n",
       " 'CountryCode': 'BR',\n",
       " 'Province': '',\n",
       " 'City': '',\n",
       " 'CityCode': '',\n",
       " 'Lat': '-14.24',\n",
       " 'Lon': '-51.93',\n",
       " 'Confirmed': 1,\n",
       " 'Deaths': 0,\n",
       " 'Recovered': 0,\n",
       " 'Active': 1,\n",
       " 'Date': '2020-02-26T00:00:00Z'}"
      ]
     },
     "execution_count": 7,
     "metadata": {},
     "output_type": "execute_result"
    }
   ],
   "source": [
    "raw_data[0]"
   ]
  },
  {
   "cell_type": "code",
   "execution_count": 8,
   "id": "949ffc3a",
   "metadata": {},
   "outputs": [],
   "source": [
    "final_data = []\n",
    "for obs in raw_data:\n",
    "    final_data.append([obs['Confirmed'], obs['Deaths'], obs['Recovered'], obs['Active'], obs['Date']])"
   ]
  },
  {
   "cell_type": "code",
   "execution_count": 9,
   "id": "eefb268b",
   "metadata": {},
   "outputs": [],
   "source": [
    "final_data.insert(0, ['Confirmados', 'Obitos', 'Recuperados', 'Ativos', 'Data'])\n"
   ]
  },
  {
   "cell_type": "code",
   "execution_count": 10,
   "id": "212ba625",
   "metadata": {},
   "outputs": [],
   "source": [
    "CONFIRMADOS = 0\n",
    "OBITOS = 1\n",
    "RECUPERADOS = 2\n",
    "ATIVOS = 3\n",
    "DATA = 4\n"
   ]
  },
  {
   "cell_type": "code",
   "execution_count": 11,
   "id": "3985cf93",
   "metadata": {},
   "outputs": [],
   "source": [
    "for i in range (1, len(final_data)):\n",
    "    final_data[i][DATA] =  final_data[i][DATA][:10]"
   ]
  },
  {
   "cell_type": "code",
   "execution_count": 12,
   "id": "3a8cecce",
   "metadata": {},
   "outputs": [],
   "source": [
    "import datetime as dt"
   ]
  },
  {
   "cell_type": "code",
   "execution_count": 13,
   "id": "9e22df72",
   "metadata": {},
   "outputs": [
    {
     "name": "stdout",
     "output_type": "stream",
     "text": [
      "20:25:15.000035\n",
      "2022-12-31\n",
      "2022-12-31 20:25:15.000035\n"
     ]
    }
   ],
   "source": [
    "print(dt.time (20,25,15,35))\n",
    "print(dt.date(2022,12,31))\n",
    "print(dt.datetime(2022,12,31,20,25,15,35))"
   ]
  },
  {
   "cell_type": "code",
   "execution_count": 14,
   "id": "444c74ad",
   "metadata": {},
   "outputs": [
    {
     "name": "stdout",
     "output_type": "stream",
     "text": [
      "191 days, 0:00:00\n",
      "191\n",
      "0\n",
      "0\n"
     ]
    }
   ],
   "source": [
    "aniver_alan = dt.date(1995,3,16)\n",
    "aniver_gabe = dt.date(1994,9,6)\n",
    "\n",
    "print(aniver_alan - aniver_gabe)\n",
    "print((aniver_alan - aniver_gabe).days)\n",
    "print((aniver_alan - aniver_gabe).seconds)\n",
    "print((aniver_alan - aniver_gabe).microseconds)"
   ]
  },
  {
   "cell_type": "code",
   "execution_count": 15,
   "id": "75cc4e47",
   "metadata": {},
   "outputs": [],
   "source": [
    "import csv"
   ]
  },
  {
   "cell_type": "code",
   "execution_count": 16,
   "id": "611046fe",
   "metadata": {},
   "outputs": [],
   "source": [
    "with open('brasil_covid_novo.csv', 'w') as file:\n",
    "    writer = csv.writer(file)\n",
    "    writer.writerow(final_data)"
   ]
  },
  {
   "cell_type": "code",
   "execution_count": 17,
   "id": "ffc15ea3",
   "metadata": {},
   "outputs": [],
   "source": [
    "for i in range (1, len(final_data)):\n",
    "    final_data[i][DATA] = dt.datetime.strptime( final_data[i][DATA], '%Y-%m-%d')"
   ]
  },
  {
   "cell_type": "code",
   "execution_count": 18,
   "id": "c1fc3adb",
   "metadata": {},
   "outputs": [],
   "source": [
    "def get_datasets(y, labels):\n",
    "    if type(y[0]) == list:\n",
    "        datasets = []\n",
    "        for i in range(len(y)):\n",
    "            datasets.append({\n",
    "                'label': labels[i],\n",
    "                'data': y[i]  \n",
    "            })\n",
    "        return datasets\n",
    "    else:\n",
    "        return [{\n",
    "            'label': labels[0],\n",
    "            'data': y\n",
    "            }\n",
    "        ]"
   ]
  },
  {
   "cell_type": "code",
   "execution_count": 19,
   "id": "21e5a111",
   "metadata": {},
   "outputs": [],
   "source": [
    "def set_title(title= ''):\n",
    "    if title != '':\n",
    "        display = 'true'\n",
    "    else:\n",
    "        display = 'false'\n",
    "    return {\n",
    "        'title' : title,\n",
    "        'display': display\n",
    "    }"
   ]
  },
  {
   "cell_type": "code",
   "execution_count": 20,
   "id": "0a924064",
   "metadata": {},
   "outputs": [],
   "source": [
    "def create_chart (x, y, labels, kind='bar', title=''):\n",
    "    \n",
    "    datasets = get_datasets(y, labels)\n",
    "    options = set_title(title)\n",
    "    \n",
    "    chart = {\n",
    "        'type': kind,\n",
    "        'data': {\n",
    "            'labels': x,\n",
    "            'datasets': datasets\n",
    "        },\n",
    "        'options': options\n",
    "    }\n",
    "    return chart"
   ]
  },
  {
   "cell_type": "code",
   "execution_count": 21,
   "id": "97aba045",
   "metadata": {},
   "outputs": [],
   "source": [
    "def get_api_chart (chart):\n",
    "    url_base = 'https://quickchart.io/chart'\n",
    "    resp = r.get(f'{url_base}?c={str(chart)}')\n",
    "    return resp.content"
   ]
  },
  {
   "cell_type": "code",
   "execution_count": 22,
   "id": "11fa040b",
   "metadata": {},
   "outputs": [],
   "source": [
    "def save_image(path, content):\n",
    "    with open (path, 'wb') as image:\n",
    "        image.write(content)\n",
    "        "
   ]
  },
  {
   "cell_type": "code",
   "execution_count": 23,
   "id": "23760b16",
   "metadata": {},
   "outputs": [
    {
     "name": "stdout",
     "output_type": "stream",
     "text": [
      "Requirement already satisfied: Pillow in c:\\users\\alan\\appdata\\local\\programs\\python\\python310\\lib\\site-packages (9.2.0)\n"
     ]
    }
   ],
   "source": [
    "!pip install Pillow\n",
    "from PIL import Image\n",
    "from IPython.display import display"
   ]
  },
  {
   "cell_type": "code",
   "execution_count": 24,
   "id": "9a581620",
   "metadata": {},
   "outputs": [],
   "source": [
    "def display_image (path):\n",
    "    img_pil = Image.open(path)\n",
    "    display(img_pil)"
   ]
  },
  {
   "cell_type": "code",
   "execution_count": 27,
   "id": "83f20075",
   "metadata": {},
   "outputs": [
    {
     "data": {
      "image/png": "[encoded data removed]",
      "text/plain": [
       "<PIL.PngImagePlugin.PngImageFile image mode=RGBA size=778x42>"
      ]
     },
     "metadata": {},
     "output_type": "display_data"
    }
   ],
   "source": [
    "y_data_1 = []\n",
    "for obs in final_data [1::10]:\n",
    "    y_data_1.append(obs[0])\n",
    "    \n",
    "y_data_2 = []\n",
    "for obs in final_data [1::10]:\n",
    "    y_data_2.append(obs[42])\n",
    "    \n",
    "labels = ['Confirmados', 'Recuperados']\n",
    "          \n",
    "x = []\n",
    "for obs in final_data [1::10]:\n",
    "    x.append(obs[DATA].strftime('%d/%m/%Y'))\n",
    "          \n",
    "chart = create_chart (x, [y_data_1, y_data_2], labels, title ='Gráfico confirmados x recuperados')\n",
    "chart_content = get_api_chart(chart)\n",
    "save_image('meu-primeiro-grafico.png', chart_content)\n",
    "display_image('meu-primeiro-grafico.png')\n"
   ]
  },
  {
   "cell_type": "code",
   "execution_count": 33,
   "id": "7e8ef3e0",
   "metadata": {},
   "outputs": [
    {
     "name": "stdout",
     "output_type": "stream",
     "text": [
      "[1, 0, 0, 1, datetime.datetime(2020, 2, 26, 0, 0)]\n",
      "[10402913, 251811, 9264696, 874267, datetime.datetime(2021, 2, 25, 0, 0)]\n",
      "[28679671, 648496, 0, 28031175, datetime.datetime(2022, 2, 25, 0, 0)]\n"
     ]
    }
   ],
   "source": [
    "y_data_1 = []\n",
    "for obs in final_data [1::365]:\n",
    "    y_data_1.append([0])\n",
    "    print(obs)"
   ]
  },
  {
   "cell_type": "code",
   "execution_count": null,
   "id": "b29342b8",
   "metadata": {},
   "outputs": [],
   "source": []
  }
 ],
 "metadata": {
  "kernelspec": {
   "display_name": "Python 3 (ipykernel)",
   "language": "python",
   "name": "python3"
  },
  "language_info": {
   "codemirror_mode": {
    "name": "ipython",
    "version": 3
   },
   "file_extension": ".py",
   "mimetype": "text/x-python",
   "name": "python",
   "nbconvert_exporter": "python",
   "pygments_lexer": "ipython3",
   "version": "3.10.7"
  }
 },
 "nbformat": 4,
 "nbformat_minor": 5
}
