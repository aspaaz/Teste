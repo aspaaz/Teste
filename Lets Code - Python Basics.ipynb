{
 "cells": [
  {
   "cell_type": "code",
   "execution_count": 1,
   "id": "a26f6f33",
   "metadata": {},
   "outputs": [
    {
     "name": "stdout",
     "output_type": "stream",
     "text": [
      "Hello, World\n"
     ]
    }
   ],
   "source": [
    "print(\"Hello, World\")"
   ]
  },
  {
   "cell_type": "code",
   "execution_count": 2,
   "id": "9c5289f3",
   "metadata": {},
   "outputs": [
    {
     "name": "stdout",
     "output_type": "stream",
     "text": [
      "10.0\n",
      "<class 'int'>\n"
     ]
    }
   ],
   "source": [
    "# Atribuindo valores a variáveis e executando operadores básicos. Assim como mostrando o Tipo de dado da variável (INT)\n",
    "x = 5\n",
    "y = 3\n",
    "v = 15\n",
    "\n",
    "print (x + v / y)\n",
    "print (type (x))"
   ]
  },
  {
   "cell_type": "code",
   "execution_count": null,
   "id": "866525e8",
   "metadata": {},
   "outputs": [],
   "source": [
    "#Transformando o tipo de dado da variável para INT, já que por padrão o sistema reconhece STRING\n",
    "idade = input (\"Informe sua idade\")\n",
    "idade = int (idade)\n",
    "print (idade, type(idade))\n"
   ]
  },
  {
   "cell_type": "code",
   "execution_count": null,
   "id": "a38031e7",
   "metadata": {},
   "outputs": [],
   "source": [
    "#Executando um código com um input do usuário (Entrada), com operadores básicos com diversos operações básicas\n",
    "salario_mensal = input (\"Digite seu salário mensal:\")\n",
    "salario_mensal = float (salario_mensal)\n",
    "\n",
    "gasto_mensal = input (\"Digite o valor do seu gasto mensal em média:\")\n",
    "gasto_mensal = float(gasto_mensal)\n",
    "\n",
    "salario_total = salario_mensal * 12\n",
    "gasto_total = gasto_mensal * 12\n",
    "\n",
    "montante_economizado = salario_total - gasto_total\n",
    "montante_economizado = int (montante_economizado)\n",
    "print(\"O montante que você pode economizar ao fim do ano é de \", montante_economizado, type(montante_economizado))\n",
    "\n",
    "\n"
   ]
  },
  {
   "cell_type": "code",
   "execution_count": null,
   "id": "c6f85a0f",
   "metadata": {},
   "outputs": [],
   "source": [
    "#Executando um algoritmo, onde, caso o valor do contador seja MENOR< do que 10, ele (algoritmo) continuará a executar até \n",
    "#que chegue ao valor 10. Iniciando com 0 e recebendo o incremento de 1 a cada looping.\n",
    "\n",
    "contador = 0\n",
    "    \n",
    "while contador < 10:\n",
    "    contador = contador + 1\n",
    "    if contador == 1:\n",
    "        print (contador, \"Item limpo\")\n",
    "    else:\n",
    "        print (contador, \"itens limpos\")\n",
    "        \n",
    "print (\"Fim da repetição de bloco while (enquanto)\")"
   ]
  },
  {
   "cell_type": "code",
   "execution_count": null,
   "id": "ca5816e9",
   "metadata": {},
   "outputs": [],
   "source": [
    "#Executando um algoritmo, onde, caso o valor do contador seja MENOR< do que 10, ele (algoritmo) continuará a executar até \n",
    "# que chegue ao valor 10. Iniciando com 0 e recebendo o incremento de 1 a cada looping.\n",
    "#Nesse caso já inserimos o while como true, então ele vai executar até o infinito, a não ser que coloquemos o \"break\", \n",
    "# para interromper quando o valor chegar a 10. Caso não tenha essa função, o algoritmo entrará em um looping infinito.\n",
    "\n",
    "contador = 0\n",
    "\n",
    "while True:\n",
    "    if contador < 10:\n",
    "        contador = contador + 1\n",
    "        if contador == 1:\n",
    "            print (contador, \"Item limpo\")\n",
    "        else:\n",
    "            print (contador, \"itens limpos\")\n",
    "    else:\n",
    "        break\n",
    "print (\"Fim da repetição de bloco while\")"
   ]
  },
  {
   "cell_type": "code",
   "execution_count": null,
   "id": "68919910",
   "metadata": {},
   "outputs": [],
   "source": [
    "resto = 2 + (3 - 1) * 10 / 5 * (2 + 3)\n",
    "print(resto)"
   ]
  },
  {
   "cell_type": "code",
   "execution_count": null,
   "id": "7faf4288",
   "metadata": {},
   "outputs": [],
   "source": [
    "#Atividade 1 do PDF da LEts Code. Consiste em criar um algoritmo que valide se o número informado pelo usuário é divisível por 5\n",
    "numero = int (input(\"Informe um número \"))\n",
    "if numero % 5 == 0:\n",
    "    print (\"Esse número é divisível por 5\")\n",
    "else:\n",
    "    print (\"Esse número não é divisível por 5\")\n",
    "    \n",
    "    "
   ]
  },
  {
   "cell_type": "code",
   "execution_count": null,
   "id": "224bc3aa",
   "metadata": {},
   "outputs": [],
   "source": [
    "sexos = 'M'or 'F'\n",
    "\n",
    "\n",
    "idade = int(input ('DIgite sua Idade '))\n",
    "while ((idade <= 0) or (idade > 150)):\n",
    "    print('Essa idade não é valida. DIgite um número entre 0 e 150')\n",
    "    idade = int(input ('DIgite sua Idade '))\n",
    "    \n",
    "salario = int(input ('DIgite seu salário '))\n",
    "\n",
    "sexo = input ('Sexo? ')\n",
    "while (sexo != sexos):\n",
    "    print('Digite seu sexo entre as opções M ou F. Sendo M para Masculino e F para Feminino')\n",
    "    sexo = input ('Sexo? ')\n",
    "    \n",
    "\n",
    "#print(sexo)\n"
   ]
  },
  {
   "cell_type": "code",
   "execution_count": null,
   "id": "e31b8305",
   "metadata": {},
   "outputs": [],
   "source": [
    "valor_liquido = float (input('Digite seu salário '))\n",
    "desconto = valor_liquido * 0.15\n",
    "print('O novo valor é R$ ' +  str (valor_liquido - desconto) + \" e o valor de desconto é R$ \" + str(desconto))\n"
   ]
  }
 ],
 "metadata": {
  "kernelspec": {
   "display_name": "Python 3 (ipykernel)",
   "language": "python",
   "name": "python3"
  },
  "language_info": {
   "codemirror_mode": {
    "name": "ipython",
    "version": 3
   },
   "file_extension": ".py",
   "mimetype": "text/x-python",
   "name": "python",
   "nbconvert_exporter": "python",
   "pygments_lexer": "ipython3",
   "version": "3.10.7"
  }
 },
 "nbformat": 4,
 "nbformat_minor": 5
}
