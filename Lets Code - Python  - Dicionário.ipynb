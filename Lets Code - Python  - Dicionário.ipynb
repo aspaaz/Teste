{
 "cells": [
  {
   "cell_type": "code",
   "execution_count": null,
   "id": "fcc50272",
   "metadata": {},
   "outputs": [],
   "source": [
    "dados_ativididades {\n",
    "    'M' : 'Masculino',\n",
    "    'F' : 'Feminino',   \n",
    "}"
   ]
  }
 ],
 "metadata": {
  "kernelspec": {
   "display_name": "Python 3 (ipykernel)",
   "language": "python",
   "name": "python3"
  },
  "language_info": {
   "codemirror_mode": {
    "name": "ipython",
    "version": 3
   },
   "file_extension": ".py",
   "mimetype": "text/x-python",
   "name": "python",
   "nbconvert_exporter": "python",
   "pygments_lexer": "ipython3",
   "version": "3.10.7"
  }
 },
 "nbformat": 4,
 "nbformat_minor": 5
}
